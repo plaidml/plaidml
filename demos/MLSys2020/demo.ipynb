{
 "cells": [
  {
   "cell_type": "code",
   "execution_count": null,
   "metadata": {},
   "outputs": [],
   "source": [
    "import numpy as np\n",
    "import drawSvg as draw\n",
    "\n",
    "import plaidml\n",
    "import plaidml.exec\n",
    "from plaidml.edsl import *\n",
    "\n",
    "\n",
    "def edsl_program(X, Y):\n",
    "    I, J, K = TensorDims(3)\n",
    "    i, j, k = TensorIndexes(3)\n",
    "    X.bind_dims(I, K)\n",
    "    Y.bind_dims(K, J)\n",
    "    R = TensorOutput(I, J)\n",
    "    R[i, j] += X[i, k] * Y[k, j]\n",
    "    return R"
   ]
  },
  {
   "cell_type": "code",
   "execution_count": null,
   "metadata": {},
   "outputs": [],
   "source": [
    "#  use placeholder, make them ints\n",
    "A = Tensor(LogicalShape(plaidml.DType.INT32, [3, 3]))\n",
    "B = Tensor(LogicalShape(plaidml.DType.INT32, [3, 3]))\n",
    "O = edsl_program(A, B)"
   ]
  },
  {
   "cell_type": "code",
   "execution_count": null,
   "metadata": {},
   "outputs": [],
   "source": [
    "program = Program('edsl_program', [O])\n",
    "#print(str(program))"
   ]
  },
  {
   "cell_type": "code",
   "execution_count": null,
   "metadata": {},
   "outputs": [],
   "source": [
    "output_dims = program.outputs[0].shape.int_dims\n",
    "#print(output_dims)"
   ]
  },
  {
   "cell_type": "code",
   "execution_count": null,
   "metadata": {},
   "outputs": [],
   "source": [
    "binder = plaidml.exec.Binder(program)\n",
    "executable = binder.compile()\n",
    "binder.input(A).copy_from_ndarray(np.array([[1,2,3], [4,5,6], [7,8,9]]))\n",
    "binder.input(B).copy_from_ndarray(np.array([[9,8,7], [6,5,4], [3,2,1]]))\n",
    "#view = binder.output(O)\n",
    "#print(view.data())\n",
    "executable.run()\n",
    "output_vals = binder.output(O).as_ndarray()\n",
    "#print(binder.output(O).as_ndarray())"
   ]
  },
  {
   "cell_type": "code",
   "execution_count": null,
   "metadata": {},
   "outputs": [],
   "source": [
    "grid_width = 10\n",
    "d = draw.Drawing(1600, 900, origin = (0, 0))\n",
    "for x in range(output_dims[0]):\n",
    "    for y in range(output_dims[1]):\n",
    "        d.append(draw.Rectangle(100 * x + grid_width, 100 * y + grid_width, \n",
    "                                100, 100, \n",
    "                        stroke_width = grid_width, stroke = 'black',\n",
    "                        fill = '#aaddff'))\n",
    "        d.append(draw.Text(str(output_vals[x][y]), 50, 100 * x + 20, 100 * y + 40))\n",
    "d.rasterize()"
   ]
  }
 ],
 "metadata": {
  "kernelspec": {
   "display_name": "Python 3",
   "language": "python",
   "name": "python3"
  },
  "language_info": {
   "codemirror_mode": {
    "name": "ipython",
    "version": 3
   },
   "file_extension": ".py",
   "mimetype": "text/x-python",
   "name": "python",
   "nbconvert_exporter": "python",
   "pygments_lexer": "ipython3",
   "version": "3.7.4"
  }
 },
 "nbformat": 4,
 "nbformat_minor": 2
}
