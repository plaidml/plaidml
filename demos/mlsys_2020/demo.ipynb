{
 "cells": [
  {
   "cell_type": "code",
   "execution_count": null,
   "metadata": {},
   "outputs": [],
   "source": [
    "# Begin with some imports\n",
    "import numpy as np\n",
    "import drawSvg as draw\n",
    "from drawSvg.widgets import DrawingWidget\n",
    "import ipywidgets as widgets\n",
    "\n",
    "import plaidml\n",
    "import plaidml.exec\n",
    "from plaidml.edsl import *"
   ]
  },
  {
   "cell_type": "code",
   "execution_count": null,
   "metadata": {},
   "outputs": [],
   "source": [
    "# Drawing helper: this can be used for inputs, outputs, etc.\n",
    "# Eventually, this will include animation logic too.\n",
    "def draw_grid(dims, vals, grid_size = 10, color='#ffffff'):\n",
    "    anim = draw.Drawing(330, 330, origin = (0, 0))\n",
    "    for x in range(dims[0]):\n",
    "        for y in range(dims[1]):\n",
    "            group = draw.Group()\n",
    "            group.draw(draw.Rectangle(100 * x + grid_size,      # origin x coords\n",
    "                                      100 * y + grid_size,      # origin y coords\n",
    "                                      100,                      # grid width\n",
    "                                      100,                      # grid height\n",
    "                                      stroke_width = grid_size, # outline size\n",
    "                                      stroke = 'black',         # outline color\n",
    "                                      fill = color))            # fill color\n",
    "            string_output = str(vals[x][y])\n",
    "            font_size = 50/len(string_output) + 25\n",
    "            group.draw(draw.Text(string_output, \n",
    "                                 font_size, \n",
    "                                 100 * x + grid_size + font_size/3 + 2*len(string_output), # origin x coords\n",
    "                                 100 * y + grid_size + 2250/(font_size+20), # origin y coords\n",
    "                                 center = 0))\n",
    "            anim.append(group)\n",
    "    return anim"
   ]
  },
  {
   "cell_type": "code",
   "execution_count": null,
   "metadata": {},
   "outputs": [],
   "source": [
    "# The program that will be executed during the demo.\n",
    "# Eventually, this will have callbacks enabled for custom operations.\n",
    "def edsl_program(X, Y):\n",
    "    I, J, K = TensorDims(3)\n",
    "    i, j, k = TensorIndexes(3)\n",
    "    X.bind_dims(I, K)\n",
    "    Y.bind_dims(K, J)\n",
    "    R = TensorOutput(I, J)\n",
    "    R[i, j] += X[i, k] * Y[k, j]\n",
    "    return R"
   ]
  },
  {
   "cell_type": "code",
   "execution_count": null,
   "metadata": {},
   "outputs": [],
   "source": [
    "# Eventually, this will be a callback to edsl_program that is triggered by the Run button.\n",
    "A = Placeholder(plaidml.DType.INT32, [3, 3])\n",
    "B = Placeholder(plaidml.DType.INT32, [3, 3])\n",
    "O = edsl_program(A, B)\n",
    "program = Program('edsl_program', [O])\n",
    "# The dimensions of each tensor are bound at this point now that the Program is created.\n",
    "# The values of each tensor are still placeholders at this point.\n",
    "input_a_dims = program.inputs[0].shape.int_dims\n",
    "input_b_dims = program.inputs[1].shape.int_dims\n",
    "output_dims = program.outputs[0].shape.int_dims"
   ]
  },
  {
   "cell_type": "code",
   "execution_count": null,
   "metadata": {},
   "outputs": [],
   "source": [
    "# Create the binder and the executable so that the program can run.\n",
    "binder = plaidml.exec.Binder(program)\n",
    "executable = binder.compile()\n",
    "binder.input(A).copy_from_ndarray(np.array([[1,2,3], [4,5,6], [7,8,9]]))\n",
    "binder.input(B).copy_from_ndarray(np.array([[9,8,7], [6,5,4], [3,2,1]]))\n",
    "executable.run()\n",
    "# The code has been run, so the values of each tensor have been bound at this point.\n",
    "input_a_vals = binder.input(A).as_ndarray()\n",
    "input_b_vals = binder.input(B).as_ndarray()\n",
    "output_vals = binder.output(O).as_ndarray()"
   ]
  },
  {
   "cell_type": "code",
   "execution_count": null,
   "metadata": {},
   "outputs": [],
   "source": [
    "# Animations: create them in one place for now.\n",
    "# Output animations are not available until the executable is complete.\n",
    "input_a_anim = draw_grid(input_a_dims, input_a_vals, color='#ffddaa')\n",
    "input_b_anim = draw_grid(input_b_dims, input_b_vals, color='#ffddff')\n",
    "output_anim = draw_grid(output_dims, output_vals, color='#aaddff')"
   ]
  },
  {
   "cell_type": "code",
   "execution_count": null,
   "metadata": {},
   "outputs": [],
   "source": [
    "# Interactive user interface (visible on the left side of the display)\n",
    "left = widgets.VBox([\n",
    "    widgets.HTML(value = \"<h2>Code</h2>\"),\n",
    "    widgets.HTML(value = \"First, select a pre-written EDSL snippet from the list below, or write your own custom operation.\"),\n",
    "    widgets.HTML(value = \"Then, press Run to see the EDSL code in action!\"),\n",
    "    widgets.HBox([\n",
    "        widgets.Label(value=\"Pick an operation:\"),\n",
    "        widgets.Dropdown(\n",
    "            options=['Matrix Multiplication', \n",
    "                     'Sum Over Axis', \n",
    "                     'Elementwise Sum', \n",
    "                     'Elementwise Multiply', \n",
    "                     'Elementwise Square Root'\n",
    "                    ],\n",
    "            value='Matrix Multiplication',\n",
    "            disabled=False\n",
    "        )\n",
    "    ]),\n",
    "    widgets.HTML(value=\"<code> \\\n",
    "                 def edsl_program(X, Y): <br>\\\n",
    "                 &nbsp;&nbsp;&nbsp;&nbsp;I, J, K = TensorDims(3) <br>\\\n",
    "                 &nbsp;&nbsp;&nbsp;&nbsp;i, j, k = TensorIndexes(3) <br>\\\n",
    "                 &nbsp;&nbsp;&nbsp;&nbsp;X.bind_dims(I, K) <br>\\\n",
    "                 &nbsp;&nbsp;&nbsp;&nbsp;Y.bind_dims(K, J) <br>\\\n",
    "                 &nbsp;&nbsp;&nbsp;&nbsp;R = TensorOutput(I, J) <br>\\\n",
    "                 </code>\"),\n",
    "    widgets.Text(value='Operation goes here', placeholder='Operation goes here', disabled=False),\n",
    "    widgets.HTML(value=\"<code> \\\n",
    "                 &nbsp;&nbsp;&nbsp;&nbsp;return R <br>\\\n",
    "                 </code>\"),\n",
    "    widgets.Button(\n",
    "        description='Run',\n",
    "        disabled=False,\n",
    "        button_style='success',\n",
    "        tooltip='Compiles and executes your EDSL program',\n",
    "        icon='check'\n",
    "    )\n",
    "])"
   ]
  },
  {
   "cell_type": "code",
   "execution_count": null,
   "metadata": {},
   "outputs": [],
   "source": [
    "# Live action animation (visible on the right side of the display)\n",
    "right = widgets.VBox([\n",
    "    widgets.HTML(value=\"<h2>Inputs</h2>\"),\n",
    "    widgets.HBox([\n",
    "        DrawingWidget(input_a_anim),\n",
    "        DrawingWidget(input_b_anim)\n",
    "    ]),\n",
    "    widgets.HTML(value=\"<h2>Result</h2>\"),\n",
    "    DrawingWidget(output_anim)\n",
    "])"
   ]
  },
  {
   "cell_type": "code",
   "execution_count": null,
   "metadata": {},
   "outputs": [],
   "source": [
    "# Full-screen layout\n",
    "\n",
    "hbox_layout = widgets.Layout()\n",
    "hbox_layout.width = '100%'\n",
    "hbox_layout.justify_content = 'space-around'\n",
    "\n",
    "# do this in a flexbox-friendlier way\n",
    "title = widgets.HTML(value='<div style=\"text-align:center\"><h1>EDSL Demo</h1></div>')\n",
    "\n",
    "subdemo = widgets.HBox([left, right])\n",
    "subdemo.layout = hbox_layout\n",
    "\n",
    "demo = widgets.VBox([\n",
    "    title,\n",
    "    subdemo\n",
    "])"
   ]
  },
  {
   "cell_type": "code",
   "execution_count": null,
   "metadata": {},
   "outputs": [],
   "source": [
    "demo"
   ]
  },
  {
   "cell_type": "code",
   "execution_count": null,
   "metadata": {},
   "outputs": [],
   "source": []
  }
 ],
 "metadata": {
  "kernelspec": {
   "display_name": "Python 3",
   "language": "python",
   "name": "python3"
  },
  "language_info": {
   "codemirror_mode": {
    "name": "ipython",
    "version": 3
   },
   "file_extension": ".py",
   "mimetype": "text/x-python",
   "name": "python",
   "nbconvert_exporter": "python",
   "pygments_lexer": "ipython3",
   "version": "3.7.4"
  }
 },
 "nbformat": 4,
 "nbformat_minor": 2
}
