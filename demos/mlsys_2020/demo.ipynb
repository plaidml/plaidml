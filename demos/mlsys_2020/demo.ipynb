{
 "cells": [
  {
   "cell_type": "code",
   "execution_count": null,
   "metadata": {},
   "outputs": [],
   "source": [
    "from demo_source import *"
   ]
  },
  {
   "cell_type": "code",
   "execution_count": null,
   "metadata": {},
   "outputs": [],
   "source": [
    "# Functional widget: Text Box\n",
    "op_textbox = widgets.Text(\n",
    "    value = list(Demo.edsl_snippets.values())[0], \n",
    "    placeholder = list(Demo.edsl_snippets.values())[0], \n",
    "    disabled = False\n",
    ")\n",
    "\n",
    "# Functional widget: Dropdown\n",
    "op_dropdown = widgets.Dropdown(\n",
    "    options = list(Demo.edsl_snippets.keys()),\n",
    "    value = list(Demo.edsl_snippets.keys())[0],\n",
    "    disabled = False\n",
    ")\n",
    "\n",
    "def dropdown_handler(change):\n",
    "    op_textbox.value = Demo.edsl_snippets[change['new']]\n",
    "    op_textbox.placeholder = Demo.edsl_snippets[change['new']]\n",
    "\n",
    "op_dropdown.observe(dropdown_handler, names='value')"
   ]
  },
  {
   "cell_type": "code",
   "execution_count": null,
   "metadata": {},
   "outputs": [],
   "source": [
    "# Interactive user interface (visible on the left side of the display)\n",
    "left = widgets.VBox([\n",
    "    widgets.HTML(value = \"<h2>Code</h2>\"),\n",
    "    widgets.HTML(value = \"First, select a pre-written EDSL snippet from the list below, or write your own custom operation.\"),\n",
    "    widgets.HTML(value = \"Then, press Run to see the EDSL code in action!\"),\n",
    "    widgets.HBox([\n",
    "        widgets.Label(value=\"Pick an operation:\"),\n",
    "        op_dropdown\n",
    "    ]),\n",
    "    widgets.HTML(value = \"<code> \\\n",
    "                 def edsl_program(X, Y): <br>\\\n",
    "                 </code>\"),\n",
    "    widgets.VBox(\n",
    "        [\n",
    "            widgets.HTML(value = \"<code> \\\n",
    "            I, J, K = TensorDims(3) <br>\\\n",
    "            i, j, k = TensorIndexes(3) <br>\\\n",
    "            X.bind_dims(I, K) <br>\\\n",
    "            Y.bind_dims(K, J) <br>\\\n",
    "            R = TensorOutput(I, J) <br>\\\n",
    "            </code>\"),\n",
    "            op_textbox,\n",
    "            widgets.HTML(value=\"<code> \\\n",
    "            return R <br>\\\n",
    "            </code>\")\n",
    "        ], \n",
    "        layout = widgets.Layout(margin='0 0 0 5%')\n",
    "    ),\n",
    "    widgets.Button(\n",
    "        description='Run',\n",
    "        disabled=False,\n",
    "        button_style='success',\n",
    "        tooltip='Compiles and executes your EDSL program',\n",
    "        icon='check'\n",
    "    )\n",
    "])"
   ]
  },
  {
   "cell_type": "code",
   "execution_count": null,
   "metadata": {},
   "outputs": [],
   "source": [
    "# Live action animation (visible on the right side of the display)\n",
    "right = widgets.VBox([\n",
    "    widgets.HTML(value=\"<h2>Inputs</h2>\"),\n",
    "    widgets.HBox([\n",
    "        DrawingWidget(Demo.input_a_anim),\n",
    "        DrawingWidget(Demo.input_b_anim)\n",
    "    ]),\n",
    "    widgets.HTML(value=\"<h2>Result</h2>\"),\n",
    "    DrawingWidget(Demo.output_anim)\n",
    "])"
   ]
  },
  {
   "cell_type": "code",
   "execution_count": null,
   "metadata": {},
   "outputs": [],
   "source": [
    "# Full-screen layout\n",
    "\n",
    "hbox_layout = widgets.Layout()\n",
    "hbox_layout.width = '100%'\n",
    "hbox_layout.justify_content = 'space-around'\n",
    "\n",
    "# do this in a flexbox-friendlier way\n",
    "edsl_title = widgets.HTML(value='<div style=\"text-align:center\"><h1>EDSL Demo</h1></div>')\n",
    "\n",
    "edsl_subdemo = widgets.HBox([left, right])\n",
    "edsl_subdemo.layout = hbox_layout\n",
    "\n",
    "edsl_demo = widgets.VBox([\n",
    "    edsl_title,\n",
    "    edsl_subdemo\n",
    "])"
   ]
  },
  {
   "cell_type": "code",
   "execution_count": null,
   "metadata": {},
   "outputs": [],
   "source": [
    "edsl_demo"
   ]
  },
  {
   "cell_type": "code",
   "execution_count": null,
   "metadata": {},
   "outputs": [],
   "source": []
  }
 ],
 "metadata": {
  "kernelspec": {
   "display_name": "Python 3",
   "language": "python",
   "name": "python3"
  },
  "language_info": {
   "codemirror_mode": {
    "name": "ipython",
    "version": 3
   },
   "file_extension": ".py",
   "mimetype": "text/x-python",
   "name": "python",
   "nbconvert_exporter": "python",
   "pygments_lexer": "ipython3",
   "version": "3.7.4"
  }
 },
 "nbformat": 4,
 "nbformat_minor": 2
}
