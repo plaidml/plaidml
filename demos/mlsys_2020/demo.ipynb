{
 "cells": [
  {
   "cell_type": "code",
   "execution_count": null,
   "metadata": {},
   "outputs": [],
   "source": [
    "from demo_source import *"
   ]
  },
  {
   "cell_type": "code",
   "execution_count": null,
   "metadata": {},
   "outputs": [],
   "source": [
    "myDemo = Demo()"
   ]
  },
  {
   "cell_type": "code",
   "execution_count": null,
   "metadata": {},
   "outputs": [],
   "source": [
    "# Functional widget: Text Box\n",
    "op_textbox = lambda x: widgets.Text(\n",
    "    value = list(myDemo.edsl_snippets[x].values())[0], \n",
    "    placeholder = list(myDemo.edsl_snippets[x].values())[0], \n",
    "    disabled = False\n",
    ")\n",
    "\n",
    "# Functional widget: Dropdown\n",
    "op_dropdown = lambda x: widgets.Dropdown(\n",
    "    options = list(myDemo.edsl_snippets[x].keys()),\n",
    "    value = list(myDemo.edsl_snippets[x].keys())[0],\n",
    "    disabled = False\n",
    ")"
   ]
  },
  {
   "cell_type": "code",
   "execution_count": null,
   "metadata": {},
   "outputs": [],
   "source": [
    "# Functional widget: Contraction op\n",
    "\n",
    "contraction_textbox = op_textbox(\"Contraction\")\n",
    "\n",
    "contraction_dropdown = op_dropdown(\"Contraction\")\n",
    "\n",
    "def contraction_dropdown_handler(change):\n",
    "    contraction_textbox.value = myDemo.edsl_snippets[\"Contraction\"][change[\"new\"]]\n",
    "    contraction_textbox.placeholder = contraction_textbox.value\n",
    "\n",
    "contraction_dropdown.observe(contraction_dropdown_handler, names = 'value')\n",
    "    \n",
    "contraction_op_widget = widgets.VBox(\n",
    "    [\n",
    "        widgets.HBox([\n",
    "            widgets.Label(value=\"Pick an operation:\"),\n",
    "            contraction_dropdown\n",
    "        ]),\n",
    "        widgets.HTML(value = \"<code> \\\n",
    "        def edsl_program(X, Y): <br>\\\n",
    "        </code>\"),\n",
    "        widgets.VBox(\n",
    "            [\n",
    "                widgets.HTML(value = \"<code> \\\n",
    "                I, J, K = TensorDims(3) <br>\\\n",
    "                i, j, k = TensorIndexes(3) <br>\\\n",
    "                X.bind_dims(I, K) <br>\\\n",
    "                Y.bind_dims(K, J) <br>\\\n",
    "                R = TensorOutput(I, J) <br>\\\n",
    "                </code>\"),\n",
    "                contraction_textbox,\n",
    "                widgets.HTML(value=\"<code> \\\n",
    "                return R <br>\\\n",
    "                </code>\")\n",
    "            ],\n",
    "            layout = widgets.Layout(margin='0 0 0 5%')\n",
    "        )\n",
    "    ]\n",
    ")\n",
    "\n",
    "# Functional widget: Elementwise op\n",
    "\n",
    "elementwise_textbox = op_textbox(\"Elementwise\")\n",
    "\n",
    "elementwise_dropdown = op_dropdown(\"Elementwise\")\n",
    "\n",
    "def elementwise_dropdown_handler(change):\n",
    "    elementwise_textbox.value = myDemo.edsl_snippets[\"Elementwise\"][change[\"new\"]]\n",
    "    elementwise_textbox.placeholder = elementwise_textbox.value\n",
    "\n",
    "elementwise_dropdown.observe(elementwise_dropdown_handler, names = 'value')\n",
    "\n",
    "elementwise_op_widget = widgets.VBox(\n",
    "    [\n",
    "        widgets.HBox([\n",
    "            widgets.Label(value=\"Pick an operation:\"),\n",
    "            elementwise_dropdown\n",
    "        ]),\n",
    "        widgets.HTML(value = \"<code> \\\n",
    "        def edsl_program(X, Y): <br>\\\n",
    "        </code>\"),\n",
    "        widgets.VBox(\n",
    "            [\n",
    "                elementwise_textbox,\n",
    "                widgets.HTML(value=\"<code> \\\n",
    "                return R <br>\\\n",
    "                </code>\")\n",
    "            ],\n",
    "            layout = widgets.Layout(margin='0 0 0 5%')\n",
    "        )\n",
    "    ]\n",
    ")\n",
    "\n",
    "textboxes = [contraction_textbox, elementwise_textbox]\n",
    "\n",
    "op_tab_titles = list(myDemo.edsl_snippets.keys())\n",
    "op_widgets = [contraction_op_widget, elementwise_op_widget]\n",
    "op_tabs = widgets.Tab()\n",
    "op_tabs.children = op_widgets\n",
    "for i in range(len(op_tabs.children)):\n",
    "    op_tabs.set_title(i, op_tab_titles[i])"
   ]
  },
  {
   "cell_type": "code",
   "execution_count": null,
   "metadata": {},
   "outputs": [],
   "source": [
    "op_run = widgets.Button(\n",
    "    description='Run',\n",
    "    disabled=False,\n",
    "    button_style='success',\n",
    "    tooltip='Compiles and executes your EDSL program',\n",
    "    icon='check'\n",
    ")\n",
    "\n",
    "def on_run_click(cb):\n",
    "    op_type = op_tab_titles[op_tabs.selected_index]\n",
    "    textbox_value = textboxes[op_tabs.selected_index].value\n",
    "    myDemo.runtime_handler(op_type, textbox_value)\n",
    "\n",
    "op_run.on_click(on_run_click)"
   ]
  },
  {
   "cell_type": "code",
   "execution_count": null,
   "metadata": {},
   "outputs": [],
   "source": [
    "# Interactive user interface (visible on the left side of the display)\n",
    "left = widgets.VBox([\n",
    "    widgets.HTML(value = \"<h2>Code</h2>\"),\n",
    "    widgets.HTML(value = \"First, select a pre-written EDSL snippet from the list below, or write your own custom operation.\"),\n",
    "    widgets.HTML(value = \"Then, press Run to see the EDSL code in action!\"),\n",
    "    op_tabs,\n",
    "    op_run\n",
    "])"
   ]
  },
  {
   "cell_type": "code",
   "execution_count": null,
   "metadata": {},
   "outputs": [],
   "source": [
    "# Live action animation (visible on the right side of the display)\n",
    "def output_anim(arg):\n",
    "    return myDemo.output_anim\n",
    "\n",
    "right = widgets.VBox([\n",
    "    widgets.HTML(value=\"<h2>Inputs</h2>\"),\n",
    "    widgets.HBox([\n",
    "        DrawingWidget(myDemo.input_x_anim),\n",
    "        DrawingWidget(myDemo.input_y_anim)\n",
    "    ]),\n",
    "    widgets.HTML(value=\"<h2>Result</h2>\"),\n",
    "    AsyncAnimation(1, output_anim, click_pause = False),\n",
    "])"
   ]
  },
  {
   "cell_type": "code",
   "execution_count": null,
   "metadata": {},
   "outputs": [],
   "source": [
    "# Full-screen layout\n",
    "\n",
    "hbox_layout = widgets.Layout()\n",
    "hbox_layout.width = '100%'\n",
    "hbox_layout.justify_content = 'space-around'\n",
    "\n",
    "# do this in a flexbox-friendlier way\n",
    "edsl_title = widgets.HTML(value='<div style=\"text-align:center\"><h1>EDSL Demo</h1></div>')\n",
    "\n",
    "edsl_subdemo = widgets.HBox([left, right])\n",
    "edsl_subdemo.layout = hbox_layout\n",
    "\n",
    "edsl_demo = widgets.VBox([\n",
    "    edsl_title,\n",
    "    edsl_subdemo\n",
    "])"
   ]
  },
  {
   "cell_type": "code",
   "execution_count": null,
   "metadata": {},
   "outputs": [],
   "source": [
    "edsl_demo"
   ]
  },
  {
   "cell_type": "code",
   "execution_count": null,
   "metadata": {},
   "outputs": [],
   "source": []
  },
  {
   "cell_type": "code",
   "execution_count": null,
   "metadata": {},
   "outputs": [],
   "source": []
  }
 ],
 "metadata": {
  "kernelspec": {
   "display_name": "Python 3",
   "language": "python",
   "name": "python3"
  },
  "language_info": {
   "codemirror_mode": {
    "name": "ipython",
    "version": 3
   },
   "file_extension": ".py",
   "mimetype": "text/x-python",
   "name": "python",
   "nbconvert_exporter": "python",
   "pygments_lexer": "ipython3",
   "version": "3.7.4"
  }
 },
 "nbformat": 4,
 "nbformat_minor": 2
}
