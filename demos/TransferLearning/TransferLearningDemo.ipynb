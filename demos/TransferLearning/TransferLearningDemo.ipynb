{
 "cells": [
  {
   "cell_type": "markdown",
   "metadata": {},
   "source": [
    "# Transfer Learning Demo\n",
    "\n",
    "## Getting Started\n",
    "Use of a virtual enviornment is highly recommended although not required. \n",
    "```bash\n",
    "virtualenv .venv\n",
    "source .venv/bin/activate\n",
    "```\n",
    "\n",
    "`pip install -r requirements.txt` will install the following packages necessary for this demo to run.\n",
    "- ngraph_tensorflow_bridge\n",
    "- tensorflow==1.14.0\n",
    "- plaidml-keras\n",
    "- pillow\n",
    "- matplotlib\n",
    "- jupyter\n",
    "\n",
    "## Other details\n",
    "Menu Bar --> Cell --> Current Outputs --> Toggle Scrolling to stop Jupyter Notebook from creating scrollable boxes when the images appear.\n",
    "\n",
    "Instantiation of `TransferLearningDemo` with `verbose=1` will create a third output box where training and testing functions will output their loss and accuracy figures, along with how long the training took. \n",
    "```python\n",
    "d = TransferLearningDemo.Demo(verbose=1)\n",
    "```"
   ]
  },
  {
   "cell_type": "code",
   "execution_count": 1,
   "metadata": {
    "scrolled": false
   },
   "outputs": [
    {
     "name": "stderr",
     "output_type": "stream",
     "text": [
      "Using TensorFlow backend.\n"
     ]
    },
    {
     "data": {
      "application/vnd.jupyter.widget-view+json": {
       "model_id": "e1ea3309e3a44683addb5038c424fa16",
       "version_major": 2,
       "version_minor": 0
      },
      "text/plain": [
       "VBox(children=(Tab(children=(VBox(children=(Dropdown(description='Model:', options=('ResNet50', 'MobileNet v2'…"
      ]
     },
     "metadata": {},
     "output_type": "display_data"
    }
   ],
   "source": [
    "import TransferLearningDemo as demo\n",
    "\n",
    "d = demo.Demo()"
   ]
  },
  {
   "cell_type": "code",
   "execution_count": null,
   "metadata": {
    "scrolled": false
   },
   "outputs": [],
   "source": [
    "d = demo.Demo()"
   ]
  },
  {
   "cell_type": "code",
   "execution_count": null,
   "metadata": {
    "scrolled": false
   },
   "outputs": [],
   "source": []
  }
 ],
 "metadata": {
  "kernelspec": {
   "display_name": "Python 3",
   "language": "python",
   "name": "python3"
  },
  "language_info": {
   "codemirror_mode": {
    "name": "ipython",
    "version": 3
   },
   "file_extension": ".py",
   "mimetype": "text/x-python",
   "name": "python",
   "nbconvert_exporter": "python",
   "pygments_lexer": "ipython3",
   "version": "3.7.0"
  }
 },
 "nbformat": 4,
 "nbformat_minor": 2
}
